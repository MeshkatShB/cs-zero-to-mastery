{
 "cells": [
  {
   "cell_type": "markdown",
   "id": "251db84a",
   "metadata": {},
   "source": [
    "# Comprehensive Graph Algorithms Notebook\n",
    "This notebook provides a detailed explanation and implementation of various graph algorithms, including traversal methods, shortest path algorithms, minimum spanning trees, and special problems."
   ]
  },
  {
   "cell_type": "markdown",
   "id": "4ec199de",
   "metadata": {},
   "source": [
    "## 1. Traversal Algorithms\n",
    "### 1.1 Depth First Search (DFS)\n",
    "**DFS** explores as far as possible along each branch before backtracking.\n",
    "\n",
    "**Applications:**\n",
    "- Topological Sorting.\n",
    "- Detecting cycles in a graph.\n",
    "- Finding connected components.\n"
   ]
  },
  {
   "cell_type": "code",
   "execution_count": null,
   "id": "9d89a245",
   "metadata": {},
   "outputs": [],
   "source": [
    "from collections import defaultdict\n",
    "\n",
    "class Graph:\n",
    "    def __init__(self):\n",
    "        self.graph = defaultdict(list)\n",
    "\n",
    "    def add_edge(self, u, v):\n",
    "        self.graph[u].append(v)\n",
    "\n",
    "    def dfs_util(self, v, visited):\n",
    "        visited.add(v)\n",
    "        print(v, end=' ')\n",
    "\n",
    "        for neighbor in self.graph[v]:\n",
    "            if neighbor not in visited:\n",
    "                self.dfs_util(neighbor, visited)\n",
    "\n",
    "    def dfs(self, start):\n",
    "        visited = set()\n",
    "        self.dfs_util(start, visited)\n",
    "\n",
    "# Example Usage\n",
    "g = Graph()\n",
    "g.add_edge(0, 1)\n",
    "g.add_edge(0, 2)\n",
    "g.add_edge(1, 2)\n",
    "g.add_edge(2, 0)\n",
    "g.add_edge(2, 3)\n",
    "g.add_edge(3, 3)\n",
    "\n",
    "print(\"DFS starting from vertex 2:\")\n",
    "g.dfs(2)"
   ]
  },
  {
   "cell_type": "markdown",
   "id": "fb973ff1",
   "metadata": {},
   "source": [
    "### 1.2 Breadth First Search (BFS)\n",
    "**BFS** explores all neighbors at the current depth before moving to nodes at the next depth level.\n",
    "\n",
    "**Applications:**\n",
    "- Shortest path in an unweighted graph.\n",
    "- Level order traversal of trees.\n",
    "- Finding connected components.\n"
   ]
  },
  {
   "cell_type": "code",
   "execution_count": null,
   "id": "1f1a8285",
   "metadata": {},
   "outputs": [],
   "source": [
    "from collections import deque\n",
    "\n",
    "class Graph:\n",
    "    def __init__(self):\n",
    "        self.graph = defaultdict(list)\n",
    "\n",
    "    def add_edge(self, u, v):\n",
    "        self.graph[u].append(v)\n",
    "\n",
    "    def bfs(self, start):\n",
    "        visited = set()\n",
    "        queue = deque([start])\n",
    "        visited.add(start)\n",
    "\n",
    "        while queue:\n",
    "            node = queue.popleft()\n",
    "            print(node, end=' ')\n",
    "\n",
    "            for neighbor in self.graph[node]:\n",
    "                if neighbor not in visited:\n",
    "                    queue.append(neighbor)\n",
    "                    visited.add(neighbor)\n",
    "\n",
    "# Example Usage\n",
    "g = Graph()\n",
    "g.add_edge(0, 1)\n",
    "g.add_edge(0, 2)\n",
    "g.add_edge(1, 2)\n",
    "g.add_edge(2, 0)\n",
    "g.add_edge(2, 3)\n",
    "g.add_edge(3, 3)\n",
    "\n",
    "print(\"BFS starting from vertex 2:\")\n",
    "g.bfs(2)"
   ]
  },
  {
   "cell_type": "markdown",
   "id": "63899bd1",
   "metadata": {},
   "source": [
    "## 2. Shortest Path Algorithms\n",
    "### 2.1 Dijkstra's Algorithm\n",
    "Finds the shortest path from a source to all other vertices in a graph with non-negative weights."
   ]
  },
  {
   "cell_type": "code",
   "execution_count": null,
   "id": "9cd82594",
   "metadata": {},
   "outputs": [],
   "source": [
    "import heapq\n",
    "\n",
    "def dijkstra(graph, start):\n",
    "    distances = {node: float('inf') for node in graph}\n",
    "    distances[start] = 0\n",
    "    priority_queue = [(0, start)]\n",
    "\n",
    "    while priority_queue:\n",
    "        current_distance, current_node = heapq.heappop(priority_queue)\n",
    "\n",
    "        if current_distance > distances[current_node]:\n",
    "            continue\n",
    "\n",
    "        for neighbor, weight in graph[current_node]:\n",
    "            distance = current_distance + weight\n",
    "\n",
    "            if distance < distances[neighbor]:\n",
    "                distances[neighbor] = distance\n",
    "                heapq.heappush(priority_queue, (distance, neighbor))\n",
    "\n",
    "    return distances\n",
    "\n",
    "# Example Usage\n",
    "graph = {\n",
    "    'A': [('B', 1), ('C', 4)],\n",
    "    'B': [('C', 2), ('D', 6)],\n",
    "    'C': [('D', 3)],\n",
    "    'D': []\n",
    "}\n",
    "\n",
    "print(\"Shortest distances from A:\")\n",
    "print(dijkstra(graph, 'A'))"
   ]
  },
  {
   "cell_type": "markdown",
   "id": "34fad49f",
   "metadata": {},
   "source": [
    "### 2.2 Bellman-Ford Algorithm\n",
    "Handles graphs with negative weights and detects negative weight cycles."
   ]
  },
  {
   "cell_type": "markdown",
   "id": "f5302df7",
   "metadata": {},
   "source": [
    "### 2.3 Floyd-Warshall Algorithm\n",
    "Finds shortest paths between all pairs of vertices in a weighted graph."
   ]
  },
  {
   "cell_type": "markdown",
   "id": "95f7e9b4",
   "metadata": {},
   "source": [
    "### 2.4 A* Algorithm\n",
    "An advanced algorithm for pathfinding and graph traversal with heuristics."
   ]
  },
  {
   "cell_type": "markdown",
   "id": "1478587f",
   "metadata": {},
   "source": [
    "## 3. Minimum Spanning Trees (MST)\n",
    "### 3.1 Kruskal's Algorithm\n",
    "Builds the MST by sorting all edges and adding them to the MST if they don’t form a cycle.\n",
    "### 3.2 Prim's Algorithm\n",
    "Selects edges connecting the MST to the remaining vertices with the smallest weight."
   ]
  },
  {
   "cell_type": "markdown",
   "id": "1af83f4b",
   "metadata": {},
   "source": [
    "## 4. Special Problems\n",
    "### 4.1 Strongly Connected Components (Tarjan's Algorithm, Kosaraju's Algorithm)\n",
    "Identifies components where every vertex is reachable from every other vertex.\n",
    "### 4.2 Bipartite Graphs and Coloring\n",
    "Determines if a graph can be colored with 2 colors without adjacent vertices sharing the same color.\n",
    "### 4.3 Maximum Flow (Ford-Fulkerson Algorithm)\n",
    "Finds the maximum possible flow in a network from a source to a sink."
   ]
  },
  {
   "cell_type": "markdown",
   "id": "73590921",
   "metadata": {},
   "source": [
    "## Time Complexity\n",
    "| Algorithm                | Time Complexity     | Explanation                                                |\n",
    "|--------------------------|---------------------|------------------------------------------------------------|\n",
    "| DFS/BFS                 | O(V + E)           | Visits every vertex and edge once.                        |\n",
    "| Dijkstra's Algorithm     | O((V + E) * log V) | Uses a priority queue for efficient edge relaxation.       |\n",
    "| Bellman-Ford Algorithm   | O(V * E)           | Iterates through all edges V-1 times.                     |\n",
    "| Floyd-Warshall Algorithm | O(V^3)             | Uses a dynamic programming approach for all-pair shortest |\n",
    "| Kruskal's Algorithm      | O(E log E + E log V)| Sort edges and perform union-find operations.             |\n",
    "| Prim's Algorithm         | O((V + E) * log V) | Uses a priority queue to find the smallest edge.          |\n"
   ]
  }
 ],
 "metadata": {},
 "nbformat": 4,
 "nbformat_minor": 5
}
